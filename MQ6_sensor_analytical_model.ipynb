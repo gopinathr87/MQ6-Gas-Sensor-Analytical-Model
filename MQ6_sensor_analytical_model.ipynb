{
 "cells": [
  {
   "cell_type": "code",
   "execution_count": 254,
   "id": "c9137810",
   "metadata": {},
   "outputs": [],
   "source": [
    "import numpy as np\n",
    "from scipy.io import loadmat  # this is the SciPy module that loads mat-files\n",
    "import matplotlib.pyplot as plt\n",
    "import scipy.io as spio\n",
    "from datetime import datetime, date, time\n",
    "import pandas as pd\n",
    "from pymatreader import read_mat\n",
    "from pyts.utils import windowed_view\n",
    "import matplotlib.pyplot as plt\n",
    "import math "
   ]
  },
  {
   "cell_type": "code",
   "execution_count": 255,
   "id": "b22eaee8",
   "metadata": {},
   "outputs": [],
   "source": [
    "#MQ-6 sensor analytical modelling \n",
    "\n",
    "Vcc=5\n",
    "x1,x2=300,10000             #200,10000\n",
    "y1,y2=0.22,0.019                 # 2, 0.4\n",
    "x,y=1000,0.1\n",
    "xmin,xmax=300,10000\n",
    "Rl=4700          "
   ]
  },
  {
   "cell_type": "code",
   "execution_count": 256,
   "id": "b2276b30",
   "metadata": {},
   "outputs": [],
   "source": [
    "m=(math.log10(y2)-math.log10(y1))/(math.log10(x2)-math.log10(x1))\n",
    "c=10**(math.log10(y)-m*math.log10(x))"
   ]
  },
  {
   "cell_type": "code",
   "execution_count": 257,
   "id": "1d9ee668",
   "metadata": {},
   "outputs": [
    {
     "name": "stdout",
     "output_type": "stream",
     "text": [
      "slope m and intercept c: -0.6984594690587614 12.45599448224206\n"
     ]
    }
   ],
   "source": [
    "print('slope m and intercept c:',m,c)"
   ]
  },
  {
   "cell_type": "code",
   "execution_count": 258,
   "id": "104b324a",
   "metadata": {},
   "outputs": [],
   "source": [
    "x=1000\n",
    "Ro=10**((math.log10(Rl**2)-m*(math.log10(xmin)+math.log10(xmax))-2*math.log10(c))/2)\n",
    "Rs=10**(m*(math.log10(x))+math.log10(c)+math.log10(Ro))\n",
    "Rsmax=10**(m*(math.log10(xmin))+math.log10(c)+math.log10(Ro))\n",
    "Rsmin=10**(m*(math.log10(xmax))+math.log10(c)+math.log10(Ro))"
   ]
  },
  {
   "cell_type": "code",
   "execution_count": 259,
   "id": "b0ce86a9",
   "metadata": {},
   "outputs": [
    {
     "name": "stdout",
     "output_type": "stream",
     "text": [
      "Ro,Rs, Rsmin, Rsmax: 68979.93599511862 6897.993599511862 1381.2214620663588 15993.090613399962\n"
     ]
    }
   ],
   "source": [
    "print('Ro,Rs, Rsmin, Rsmax:',Ro,Rs,Rsmin,Rsmax)"
   ]
  },
  {
   "cell_type": "code",
   "execution_count": 260,
   "id": "5fcf1277",
   "metadata": {},
   "outputs": [
    {
     "name": "stdout",
     "output_type": "stream",
     "text": [
      "y: 0.1\n"
     ]
    }
   ],
   "source": [
    "y=Rs/Ro\n",
    "print('y:',y)"
   ]
  },
  {
   "cell_type": "code",
   "execution_count": 261,
   "id": "de29ef60",
   "metadata": {},
   "outputs": [],
   "source": [
    "VRlmin=(Rl*Vcc)/(Rsmax+Rl)\n",
    "VRlmax=(Rl*Vcc)/(Rsmin+Rl)\n",
    "VRlspan=((Rsmax-Rsmin)*Rl*Vcc)/((Rsmin+Rl)*(Rsmax+Rl))"
   ]
  },
  {
   "cell_type": "code",
   "execution_count": 262,
   "id": "497bdfbe",
   "metadata": {},
   "outputs": [
    {
     "name": "stdout",
     "output_type": "stream",
     "text": [
      "VRlmin,VRlmax,VRlspan: 1.1356447637059301 3.8643552362940676 2.7287104725881375\n"
     ]
    }
   ],
   "source": [
    "print('VRlmin,VRlmax,VRlspan:',VRlmin,VRlmax,VRlspan)"
   ]
  },
  {
   "cell_type": "code",
   "execution_count": 263,
   "id": "8b537294",
   "metadata": {},
   "outputs": [],
   "source": [
    "dx=xmax-xmin"
   ]
  },
  {
   "cell_type": "code",
   "execution_count": 264,
   "id": "a7494bf6",
   "metadata": {},
   "outputs": [],
   "source": [
    "#Sensitivity\n",
    "S=VRlspan/dx"
   ]
  },
  {
   "cell_type": "code",
   "execution_count": 265,
   "id": "cf835c8d",
   "metadata": {},
   "outputs": [
    {
     "data": {
      "text/plain": [
       "0.00028131035799877706"
      ]
     },
     "execution_count": 265,
     "metadata": {},
     "output_type": "execute_result"
    }
   ],
   "source": [
    "S"
   ]
  },
  {
   "cell_type": "code",
   "execution_count": 266,
   "id": "48181fe0",
   "metadata": {},
   "outputs": [],
   "source": [
    "VRl=Rl*Vcc/(Rs+Rl)\n",
    "Rs=((Vcc/VRl)-1)*Rl\n",
    "I=Vcc/(Rs+Rl)"
   ]
  },
  {
   "cell_type": "code",
   "execution_count": 267,
   "id": "5753e947",
   "metadata": {},
   "outputs": [],
   "source": [
    "Ps=((Vcc**2)*Rs)/((Rs+math.sqrt(Rsmin*Rsmax))**2)"
   ]
  },
  {
   "cell_type": "code",
   "execution_count": 268,
   "id": "5b64d941",
   "metadata": {},
   "outputs": [
    {
     "data": {
      "text/plain": [
       "0.0012820266887263161"
      ]
     },
     "execution_count": 268,
     "metadata": {},
     "output_type": "execute_result"
    }
   ],
   "source": [
    "Ps"
   ]
  },
  {
   "cell_type": "code",
   "execution_count": 269,
   "id": "3fdb21dd",
   "metadata": {},
   "outputs": [
    {
     "data": {
      "text/plain": [
       "5000.0"
      ]
     },
     "execution_count": 269,
     "metadata": {},
     "output_type": "execute_result"
    }
   ],
   "source": [
    "0.5*(10**4)"
   ]
  },
  {
   "cell_type": "code",
   "execution_count": 270,
   "id": "3371f05a",
   "metadata": {},
   "outputs": [
    {
     "data": {
      "text/plain": [
       "45000.0"
      ]
     },
     "execution_count": 270,
     "metadata": {},
     "output_type": "execute_result"
    }
   ],
   "source": [
    "4.5*(10**4)"
   ]
  },
  {
   "cell_type": "code",
   "execution_count": 271,
   "id": "31193cf7",
   "metadata": {},
   "outputs": [],
   "source": [
    "Rsi=np.arange(Rsmin,Rsmax,0.1)"
   ]
  },
  {
   "cell_type": "code",
   "execution_count": 272,
   "id": "33a3e763",
   "metadata": {},
   "outputs": [
    {
     "data": {
      "text/plain": [
       "array([ 1381.22146207,  1381.32146207,  1381.42146207, ...,\n",
       "       15992.82146205, 15992.92146205, 15993.02146205])"
      ]
     },
     "execution_count": 272,
     "metadata": {},
     "output_type": "execute_result"
    }
   ],
   "source": [
    "Rsi"
   ]
  },
  {
   "cell_type": "code",
   "execution_count": 273,
   "id": "a4132f76",
   "metadata": {},
   "outputs": [],
   "source": [
    "Psi=((Vcc**2)*Rsi)/((Rsi+math.sqrt(Rsmin*Rsmax))**2)"
   ]
  },
  {
   "cell_type": "code",
   "execution_count": 274,
   "id": "0009eb11",
   "metadata": {},
   "outputs": [
    {
     "data": {
      "text/plain": [
       "array([0.00093373, 0.00093377, 0.0009338 , ..., 0.00093374, 0.00093374,\n",
       "       0.00093373])"
      ]
     },
     "execution_count": 274,
     "metadata": {},
     "output_type": "execute_result"
    }
   ],
   "source": [
    "Psi"
   ]
  },
  {
   "cell_type": "code",
   "execution_count": 275,
   "id": "9fe1150a",
   "metadata": {},
   "outputs": [
    {
     "data": {
      "text/plain": [
       "Text(0, 0.5, 'Sensor power dissipation Ps (W)')"
      ]
     },
     "execution_count": 275,
     "metadata": {},
     "output_type": "execute_result"
    },
    {
     "data": {
      "image/png": "[encoded data removed]",
      "text/plain": [
       "<Figure size 936x432 with 1 Axes>"
      ]
     },
     "metadata": {
      "needs_background": "light"
     },
     "output_type": "display_data"
    }
   ],
   "source": [
    "plt.figure(figsize=(13, 6))\n",
    "plt.plot(Rsi,Psi)\n",
    "plt.grid(True)\n",
    "plt.title(' MQ-6 sensor power dissipation Ps (W) Vs Sensor resistance (Rs) for Ro=68.979 kΩ')\n",
    "plt.xlabel(\"Sensor resistance (Rs)\")\n",
    "plt.ylabel(\"Sensor power dissipation Ps (W)\")"
   ]
  },
  {
   "cell_type": "code",
   "execution_count": 276,
   "id": "76da87ee",
   "metadata": {},
   "outputs": [],
   "source": [
    "ppm=10**(1/m*(math.log10(Rs/Ro)-math.log10(c)))"
   ]
  },
  {
   "cell_type": "code",
   "execution_count": 277,
   "id": "2d0c94c0",
   "metadata": {},
   "outputs": [
    {
     "data": {
      "text/plain": [
       "1000.000000000002"
      ]
     },
     "execution_count": 277,
     "metadata": {},
     "output_type": "execute_result"
    }
   ],
   "source": [
    "ppm"
   ]
  },
  {
   "cell_type": "code",
   "execution_count": 278,
   "id": "4aebdb95",
   "metadata": {},
   "outputs": [],
   "source": [
    "Rs_test=np.arange(Rsmin,Rsmax,0.1)"
   ]
  },
  {
   "cell_type": "code",
   "execution_count": 279,
   "id": "8ad51304",
   "metadata": {},
   "outputs": [
    {
     "data": {
      "text/plain": [
       "array([ 1381.22146207,  1381.32146207,  1381.42146207, ...,\n",
       "       15992.82146205, 15992.92146205, 15993.02146205])"
      ]
     },
     "execution_count": 279,
     "metadata": {},
     "output_type": "execute_result"
    }
   ],
   "source": [
    "Rs_test"
   ]
  },
  {
   "cell_type": "code",
   "execution_count": 280,
   "id": "a479c8e2",
   "metadata": {},
   "outputs": [
    {
     "data": {
      "text/plain": [
       "68979.93599511862"
      ]
     },
     "execution_count": 280,
     "metadata": {},
     "output_type": "execute_result"
    }
   ],
   "source": [
    "Ro"
   ]
  },
  {
   "cell_type": "code",
   "execution_count": 281,
   "id": "536959e1",
   "metadata": {},
   "outputs": [],
   "source": [
    "ppm=10**(1/m*(np.log10(Rs_test/Ro)-np.log10(c)))"
   ]
  },
  {
   "cell_type": "code",
   "execution_count": 282,
   "id": "ddcd736f",
   "metadata": {},
   "outputs": [
    {
     "data": {
      "text/plain": [
       "array([10000.        ,  9998.96352879,  9997.92724002, ...,\n",
       "         300.00722858,   300.00454285,   300.00185717])"
      ]
     },
     "execution_count": 282,
     "metadata": {},
     "output_type": "execute_result"
    }
   ],
   "source": [
    "ppm"
   ]
  },
  {
   "cell_type": "code",
   "execution_count": 283,
   "id": "6752241a",
   "metadata": {},
   "outputs": [
    {
     "data": {
      "text/plain": [
       "Text(0, 0.5, 'Sensor Resistance (Rs)')"
      ]
     },
     "execution_count": 283,
     "metadata": {},
     "output_type": "execute_result"
    },
    {
     "data": {
      "image/png": "[encoded data removed]",
      "text/plain": [
       "<Figure size 936x432 with 1 Axes>"
      ]
     },
     "metadata": {
      "needs_background": "light"
     },
     "output_type": "display_data"
    }
   ],
   "source": [
    "plt.figure(figsize=(13, 6))\n",
    "plt.plot(ppm,Rs_test)\n",
    "plt.grid(True)\n",
    "plt.title(' MQ-6 Sensor Resistance (Rs) Vs PPM for Ro=68.979 kΩ')\n",
    "plt.xlabel(\"PPM\")\n",
    "plt.ylabel(\"Sensor Resistance (Rs)\")"
   ]
  },
  {
   "cell_type": "code",
   "execution_count": 284,
   "id": "22458503",
   "metadata": {},
   "outputs": [
    {
     "data": {
      "text/plain": [
       "Text(0, 0.5, 'Rs/Ro')"
      ]
     },
     "execution_count": 284,
     "metadata": {},
     "output_type": "execute_result"
    },
    {
     "data": {
      "image/png": "[encoded data removed]",
      "text/plain": [
       "<Figure size 936x432 with 1 Axes>"
      ]
     },
     "metadata": {
      "needs_background": "light"
     },
     "output_type": "display_data"
    }
   ],
   "source": [
    "y=Rs_test/Ro\n",
    "plt.figure(figsize=(13, 6))\n",
    "plt.plot(ppm,y)\n",
    "plt.grid(True)\n",
    "plt.title(' MQ-6 Sensor Resistance (Rs/Ro) Vs PPM for Ro=68.979 kΩ')\n",
    "plt.xlabel(\"PPM\")\n",
    "plt.ylabel(\"Rs/Ro\")"
   ]
  },
  {
   "cell_type": "code",
   "execution_count": 285,
   "id": "8788e8c2",
   "metadata": {},
   "outputs": [
    {
     "data": {
      "text/plain": [
       "Text(0, 0.5, 'Rs/Ro')"
      ]
     },
     "execution_count": 285,
     "metadata": {},
     "output_type": "execute_result"
    },
    {
     "data": {
      "image/png": "[encoded data removed]",
      "text/plain": [
       "<Figure size 936x432 with 1 Axes>"
      ]
     },
     "metadata": {
      "needs_background": "light"
     },
     "output_type": "display_data"
    }
   ],
   "source": [
    "y=Rs_test/Ro\n",
    "plt.figure(figsize=(13, 6))\n",
    "plt.loglog(ppm,y)\n",
    "plt.grid(True,which=\"both\")\n",
    "plt.title(' Rs/Ro Vs PPM for Ro=68.979 kΩ')\n",
    "plt.xlabel(\"PPM\")\n",
    "plt.ylabel(\"Rs/Ro\")"
   ]
  },
  {
   "cell_type": "code",
   "execution_count": 286,
   "id": "2fed07e2",
   "metadata": {},
   "outputs": [
    {
     "data": {
      "text/plain": [
       "0.1"
      ]
     },
     "execution_count": 286,
     "metadata": {},
     "output_type": "execute_result"
    }
   ],
   "source": [
    "10**-1"
   ]
  },
  {
   "cell_type": "code",
   "execution_count": null,
   "id": "4f577310",
   "metadata": {},
   "outputs": [],
   "source": []
  }
 ],
 "metadata": {
  "kernelspec": {
   "display_name": "Python 3 (ipykernel)",
   "language": "python",
   "name": "python3"
  },
  "language_info": {
   "codemirror_mode": {
    "name": "ipython",
    "version": 3
   },
   "file_extension": ".py",
   "mimetype": "text/x-python",
   "name": "python",
   "nbconvert_exporter": "python",
   "pygments_lexer": "ipython3",
   "version": "3.8.8"
  }
 },
 "nbformat": 4,
 "nbformat_minor": 5
}
